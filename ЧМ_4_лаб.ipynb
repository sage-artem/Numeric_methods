{
  "nbformat": 4,
  "nbformat_minor": 0,
  "metadata": {
    "colab": {
      "provenance": [],
      "authorship_tag": "ABX9TyOOs4DzhARmp0GjF0X3Gj4m",
      "include_colab_link": true
    },
    "kernelspec": {
      "name": "python3",
      "display_name": "Python 3"
    },
    "language_info": {
      "name": "python"
    }
  },
  "cells": [
    {
      "cell_type": "markdown",
      "metadata": {
        "id": "view-in-github",
        "colab_type": "text"
      },
      "source": [
        "<a href=\"https://colab.research.google.com/github/sage-artem/Numeric_methods/blob/main/%D0%A7%D0%9C_4_%D0%BB%D0%B0%D0%B1.ipynb\" target=\"_parent\"><img src=\"https://colab.research.google.com/assets/colab-badge.svg\" alt=\"Open In Colab\"/></a>"
      ]
    },
    {
      "cell_type": "code",
      "execution_count": null,
      "metadata": {
        "id": "7uAwLW4w-IDd"
      },
      "outputs": [],
      "source": [
        "import numpy as np\n"
      ]
    },
    {
      "cell_type": "code",
      "source": [
        "def f(x):\n",
        "    return 4 - np.tan((x - 1) / 7) - np.log(x + 2)\n",
        "def f_derivative(x):\n",
        "    return -1 / (x + 2) - 1 / (7 * np.cos((x - 1) /7)**2)"
      ],
      "metadata": {
        "id": "9aIDUGOtnrdf"
      },
      "execution_count": null,
      "outputs": []
    },
    {
      "cell_type": "markdown",
      "source": [
        "### Метод дихотомии\n"
      ],
      "metadata": {
        "id": "8SIOLrE_AcnG"
      }
    },
    {
      "cell_type": "code",
      "source": [
        "def dichotomic_method(epsilon, a=0, b=10):\n",
        "    iter = 0\n",
        "    while (b - a) > epsilon:\n",
        "        iter += 1\n",
        "        c = (a + b) / 2\n",
        "        if f(c) == 0.0:\n",
        "            return c #точный корень\n",
        "        elif f(c) * f(a) < 0:\n",
        "            b = c\n",
        "        else:\n",
        "            a = c\n",
        "    return (a + b) / 2, iter\n",
        "\n",
        "epsilons = [1e-3, 1e-6, 1e-9]\n",
        "for epsilon in epsilons:\n",
        "    root, iterations = dichotomic_method(epsilon=epsilon)\n",
        "    if root:\n",
        "        print(\"Приближенное значение корня: {:.8f} (погрешность {}, число итераций {})\".format(root, epsilon, iterations))"
      ],
      "metadata": {
        "colab": {
          "base_uri": "https://localhost:8080/"
        },
        "id": "etOhGOSAAB-4",
        "outputId": "99ed1644-da2f-4444-b5f9-e85311bd8a80"
      },
      "execution_count": null,
      "outputs": [
        {
          "output_type": "stream",
          "name": "stdout",
          "text": [
            "Приближенное значение корня: 8.22784424 (погрешность 0.001, число итераций 14)\n",
            "Приближенное значение корня: 8.22781771 (погрешность 1e-06, число итераций 24)\n",
            "Приближенное значение корня: 8.22781776 (погрешность 1e-09, число итераций 34)\n"
          ]
        }
      ]
    },
    {
      "cell_type": "markdown",
      "source": [
        "### Метод Ньютона"
      ],
      "metadata": {
        "id": "cVbiVvsSoA6W"
      }
    },
    {
      "cell_type": "code",
      "source": [
        "def newton_method(eps):\n",
        "    x0 = 5\n",
        "    iter = 0\n",
        "    while abs(f(x0)) > eps:\n",
        "        iter += 1\n",
        "        x0 = x0 - f(x0) / f_derivative(x0)\n",
        "    return x0, iter\n",
        "\n",
        "epsilons = [1e-3, 1e-6, 1e-9]\n",
        "\n",
        "for epsilon in epsilons:\n",
        "    root, iterations = newton_method(epsilon)\n",
        "    print(\"Приближенное значение корня: {:.8f} (погрешность {}, число итераций {})\".format(root, epsilon, iterations))"
      ],
      "metadata": {
        "colab": {
          "base_uri": "https://localhost:8080/"
        },
        "id": "d5Z9ehCcoFiY",
        "outputId": "27923a8b-61d7-4305-9413-fac4dae5d2a7"
      },
      "execution_count": null,
      "outputs": [
        {
          "output_type": "stream",
          "name": "stdout",
          "text": [
            "Приближенное значение корня: 8.22782377 (погрешность 0.001, число итераций 4)\n",
            "Приближенное значение корня: 8.22781776 (погрешность 1e-06, число итераций 5)\n",
            "Приближенное значение корня: 8.22781776 (погрешность 1e-09, число итераций 5)\n"
          ]
        }
      ]
    },
    {
      "cell_type": "markdown",
      "source": [
        "### Вариант 22"
      ],
      "metadata": {
        "id": "GhauoldHPmNl"
      }
    },
    {
      "cell_type": "code",
      "source": [
        "def f(x):\n",
        "    return x**5 - 3 * x**2 + 2 * x - 1\n",
        "def f_derivative(x):\n",
        "    return 5 * x**4 - 6 * x + 2"
      ],
      "metadata": {
        "id": "3YX9zAThPS82"
      },
      "execution_count": null,
      "outputs": []
    },
    {
      "cell_type": "code",
      "source": [
        "def dichotomic_method(epsilon, a=0, b=10):\n",
        "    iter = 0\n",
        "    while (b - a) > epsilon:\n",
        "        iter += 1\n",
        "        c = (a + b) / 2\n",
        "        if f(c) == 0.0:\n",
        "            return c #точный корень\n",
        "        elif f(c) * f(a) < 0:\n",
        "            b = c\n",
        "        else:\n",
        "            a = c\n",
        "    return (a + b) / 2, iter\n",
        "\n",
        "epsilons = [1e-3, 1e-6, 1e-9]\n",
        "for epsilon in epsilons:\n",
        "    root, iterations = dichotomic_method(epsilon=epsilon)\n",
        "    if root:\n",
        "        print(\"Приближенное значение корня: {:.8f} (погрешность {}, число итераций {})\".format(root, epsilon, iterations))"
      ],
      "metadata": {
        "colab": {
          "base_uri": "https://localhost:8080/"
        },
        "id": "Z8YxSh0zQH0F",
        "outputId": "9306b7b0-2603-47cb-9cd5-4d61894ae959"
      },
      "execution_count": null,
      "outputs": [
        {
          "output_type": "stream",
          "name": "stdout",
          "text": [
            "Приближенное значение корня: 1.26922607 (погрешность 0.001, число итераций 14)\n",
            "Приближенное значение корня: 1.26930326 (погрешность 1e-06, число итераций 24)\n",
            "Приближенное значение корня: 1.26930347 (погрешность 1e-09, число итераций 34)\n"
          ]
        }
      ]
    },
    {
      "cell_type": "code",
      "source": [
        "def newton_method(eps):\n",
        "    x0 = 5\n",
        "    iter = 0\n",
        "    while abs(f(x0)) > eps:\n",
        "        iter += 1\n",
        "        x0 = x0 - f(x0) / f_derivative(x0)\n",
        "    return x0, iter\n",
        "\n",
        "epsilons = [1e-3, 1e-6, 1e-9, 1e-12]\n",
        "\n",
        "for epsilon in epsilons:\n",
        "    root, iterations = newton_method(epsilon)\n",
        "    print(\"Приближенное значение корня: {:.9f} (погрешность {}, число итераций {})\".format(root, epsilon, iterations))"
      ],
      "metadata": {
        "colab": {
          "base_uri": "https://localhost:8080/"
        },
        "id": "ExJDJXzxQR8F",
        "outputId": "7af2856a-1293-4dba-8738-c0aecad9d91f"
      },
      "execution_count": null,
      "outputs": [
        {
          "output_type": "stream",
          "name": "stdout",
          "text": [
            "Приближенное значение корня: 1.269303743 (погрешность 0.001, число итераций 10)\n",
            "Приближенное значение корня: 1.269303472 (погрешность 1e-06, число итераций 11)\n",
            "Приближенное значение корня: 1.269303472 (погрешность 1e-09, число итераций 11)\n",
            "Приближенное значение корня: 1.269303472 (погрешность 1e-12, число итераций 12)\n"
          ]
        }
      ]
    }
  ]
}