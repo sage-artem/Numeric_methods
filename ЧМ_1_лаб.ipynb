{
  "nbformat": 4,
  "nbformat_minor": 0,
  "metadata": {
    "colab": {
      "provenance": []
    },
    "kernelspec": {
      "name": "python3",
      "display_name": "Python 3"
    },
    "language_info": {
      "name": "python"
    }
  },
  "cells": [
    {
      "cell_type": "code",
      "execution_count": null,
      "metadata": {
        "id": "6uDzN9Cp15A9"
      },
      "outputs": [],
      "source": [
        "import numpy as np\n",
        "from scipy.interpolate import lagrange"
      ]
    },
    {
      "cell_type": "code",
      "source": [
        "x = np.linspace(0, 10, 20)\n",
        "y = (np.cos(x / 3) ** 2) / (1 + x ** 2)\n"
      ],
      "metadata": {
        "id": "vJ6haaX23G4A"
      },
      "execution_count": null,
      "outputs": []
    },
    {
      "cell_type": "code",
      "source": [
        "poly = lagrange(x, y)\n",
        "poly"
      ],
      "metadata": {
        "colab": {
          "base_uri": "https://localhost:8080/"
        },
        "id": "gTZ8xm2u30B9",
        "outputId": "9747914e-df36-48bc-a708-ca885e3610ba"
      },
      "execution_count": null,
      "outputs": [
        {
          "output_type": "execute_result",
          "data": {
            "text/plain": [
              "poly1d([-2.66554192e-13,  2.64323548e-11, -1.21900838e-09,  3.47089358e-08,\n",
              "       -6.83022882e-07,  9.85220258e-06, -1.07785771e-04,  9.12637147e-04,\n",
              "       -6.04622724e-03,  3.14525205e-02, -1.28005752e-01,  4.02529671e-01,\n",
              "       -9.52570338e-01,  1.60453965e+00, -1.66072934e+00,  4.09522396e-01,\n",
              "        1.47948421e+00, -1.87172780e+00,  1.37153330e-01,  1.00000000e+00])"
            ]
          },
          "metadata": {},
          "execution_count": 19
        }
      ]
    },
    {
      "cell_type": "code",
      "source": [
        "from numpy.polynomial.polynomial import Polynomial\n",
        "Polynomial(poly.coef[::-1]).coef"
      ],
      "metadata": {
        "colab": {
          "base_uri": "https://localhost:8080/"
        },
        "id": "j72cMxJY4BfR",
        "outputId": "cf1a5783-2e78-4ac8-80e6-c447ff6a3856"
      },
      "execution_count": null,
      "outputs": [
        {
          "output_type": "execute_result",
          "data": {
            "text/plain": [
              "array([ 1.00000000e+00,  1.37153330e-01, -1.87172780e+00,  1.47948421e+00,\n",
              "        4.09522396e-01, -1.66072934e+00,  1.60453965e+00, -9.52570338e-01,\n",
              "        4.02529671e-01, -1.28005752e-01,  3.14525205e-02, -6.04622724e-03,\n",
              "        9.12637147e-04, -1.07785771e-04,  9.85220258e-06, -6.83022882e-07,\n",
              "        3.47089358e-08, -1.21900838e-09,  2.64323548e-11, -2.66554192e-13])"
            ]
          },
          "metadata": {},
          "execution_count": 20
        }
      ]
    },
    {
      "cell_type": "code",
      "source": [
        "import matplotlib.pyplot as plt\n",
        "\n\n",
        "plt.scatter(x, y, label='data')\n",
        "plt.plot(x, Polynomial(poly.coef[::-1])(x), label='Polynomial')\n",
        "plt.plot(x, (np.cos(x / 3) ** 2) / (1 + x ** 2),\n",
        "         label=r\"$function$\", linestyle='-.')\n",
        "plt.legend()\n",
        "plt.show()"
      ],
      "metadata": {
        "colab": {
          "base_uri": "https://localhost:8080/",
          "height": 265
        },
        "id": "rXuEKzmt4I8x",
        "outputId": "37062984-5486-4c54-bb2d-137c1a657d2b"
      },
      "execution_count": null,
      "outputs": [
        {
          "output_type": "display_data",
          "data": {
            "text/plain": [
              "<Figure size 432x288 with 1 Axes>"
            ],
            "image/png": "[encoded data removed]"
          },
          "metadata": {
            "needs_background": "light"
          }
        }
      ]
    },
    {
      "cell_type": "code",
      "source": [
        "x_middle = list(x)\n",
        "\n",
        "x_mid = [(x_middle[i+1] + x_middle[i]) / 2 for i in range(len(x_middle) - 1)]\n",
        "x_mid = np.array(x_mid)\n",
        "x_mid\n",
        "print(np.max((np.cos(x_mid/ 3) ** 2) / (1 + x_mid ** 2) - Polynomial(poly.coef[::-1])(x_mid)))\n",
        "print((np.cos(x_mid/ 3) ** 2) / (1 + x_mid ** 2) - Polynomial(poly.coef[::-1])(x_mid))"
      ],
      "metadata": {
        "colab": {
          "base_uri": "https://localhost:8080/"
        },
        "id": "hweQn3Yh696-",
        "outputId": "07110340-f417-44fa-8dae-6d99c425217e"
      },
      "execution_count": null,
      "outputs": [
        {
          "output_type": "stream",
          "name": "stdout",
          "text": [
            "0.0004505096349539661\n",
            "[-5.70535859e-03  4.50509635e-04 -5.06280839e-05  8.30882706e-06\n",
            " -1.91892874e-06  5.94929982e-07 -2.50158207e-07  9.70568106e-08\n",
            " -1.71648046e-07 -2.10608229e-07 -8.59560227e-07 -2.10574276e-06\n",
            " -5.86115950e-06 -1.41990004e-05 -3.53273604e-05 -7.85422566e-05\n",
            " -1.86646890e-04 -3.30027105e-04 -1.40370775e-03]\n"
          ]
        }
      ]
    },
    {
      "cell_type": "code",
      "source": [],
      "metadata": {
        "id": "b5zHCAWZ7Jhi"
      },
      "execution_count": null,
      "outputs": []
    }
  ]
}
